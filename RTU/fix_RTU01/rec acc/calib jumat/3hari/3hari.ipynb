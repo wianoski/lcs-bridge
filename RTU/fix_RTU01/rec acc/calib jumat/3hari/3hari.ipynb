{
 "cells": [
  {
   "cell_type": "code",
   "execution_count": 6,
   "metadata": {},
   "outputs": [
    {
     "name": "stdout",
     "output_type": "stream",
     "text": [
      "data: 274400, tidak diterima: 85600, error rate: 23.77777777777778\n"
     ]
    }
   ],
   "source": [
    "import csv\n",
    "my_reader = csv.reader(open('./strain/14012021.csv', encoding = 'utf-8'))\n",
    "ctr = 0\n",
    "rows = 0\n",
    "time = 'T02'\n",
    "for record in my_reader:\n",
    "    if time in record[0]:\n",
    "        rows += 1\n",
    "        ctr += record[0].count(time) * 100\n",
    "\n",
    "tidak = 360000  - ctr \n",
    "err = ((360000  - ctr)/360000 )*100\n",
    "\n",
    "print('data: {}, tidak diterima: {}, error rate: {}'.format(ctr, tidak,err))"
   ]
  },
  {
   "cell_type": "code",
   "execution_count": 106,
   "metadata": {},
   "outputs": [
    {
     "name": "stdout",
     "output_type": "stream",
     "text": [
      "diterima: 1801, tidak diterima: 1799, error rate: 49.97222222222222\n"
     ]
    }
   ],
   "source": [
    "my_reader = csv.reader(open('./acc1/16012021.csv', encoding = 'utf-8'))\n",
    "ctr = 0\n",
    "rows = 0\n",
    "time = 'T22'\n",
    "for record in my_reader:\n",
    "    if time in record[0]:\n",
    "        rows += 1\n",
    "        ctr += record[0].count(time)\n",
    "\n",
    "tidak = 3600 - ctr \n",
    "err = ((3600 - ctr)/3600)*100\n",
    "\n",
    "print('diterima: {}, tidak diterima: {}, error rate: {}'.format(ctr, tidak,err))"
   ]
  },
  {
   "cell_type": "code",
   "execution_count": 213,
   "metadata": {},
   "outputs": [
    {
     "name": "stdout",
     "output_type": "stream",
     "text": [
      "diterima: 563, tidak diterima: 3037, error rate: 84.36111111111111\n"
     ]
    }
   ],
   "source": [
    "my_reader = csv.reader(open('./acc2/16012021.csv', encoding = 'utf-8'))\n",
    "ctr = 0\n",
    "rows = 0\n",
    "time = 'T21'\n",
    "for record in my_reader:\n",
    "    if time in record[0]:\n",
    "        rows += 1\n",
    "        ctr += record[0].count(time)\n",
    "\n",
    "tidak = 3600 - ctr \n",
    "err = ((3600 - ctr)/3600)*100\n",
    "\n",
    "print('diterima: {}, tidak diterima: {}, error rate: {}'.format(ctr, tidak,err))"
   ]
  },
  {
   "cell_type": "code",
   "execution_count": 290,
   "metadata": {},
   "outputs": [
    {
     "name": "stdout",
     "output_type": "stream",
     "text": [
      "diterima: 2426, tidak diterima: 1174, error rate: 32.611111111111114\n"
     ]
    }
   ],
   "source": [
    "my_reader = csv.reader(open('./acc3/16012021.csv', encoding = 'utf-8'))\n",
    "ctr = 0\n",
    "rows = 0\n",
    "time = 'T22'\n",
    "for record in my_reader:\n",
    "    if time in record[0]:\n",
    "        rows += 1\n",
    "        ctr += record[0].count(time)\n",
    "\n",
    "tidak = 3600 - ctr \n",
    "err = ((3600 - ctr)/3600)*100\n",
    "\n",
    "print('diterima: {}, tidak diterima: {}, error rate: {}'.format(ctr, tidak,err))"
   ]
  },
  {
   "cell_type": "code",
   "execution_count": 363,
   "metadata": {},
   "outputs": [
    {
     "name": "stdout",
     "output_type": "stream",
     "text": [
      "diterima: 2512, tidak diterima: 1088, error rate: 30.22222222222222\n"
     ]
    }
   ],
   "source": [
    "my_reader = csv.reader(open('./acc4/16012021.csv', encoding = 'utf-8'))\n",
    "ctr = 0\n",
    "rows = 0\n",
    "time = 'T22'\n",
    "for record in my_reader:\n",
    "    if time in record[0]:\n",
    "        rows += 1\n",
    "        ctr += record[0].count(time)\n",
    "\n",
    "tidak = 3600 - ctr \n",
    "err = ((3600 - ctr)/3600)*100\n",
    "\n",
    "print('diterima: {}, tidak diterima: {}, error rate: {}'.format(ctr, tidak,err))"
   ]
  },
  {
   "cell_type": "code",
   "execution_count": 450,
   "metadata": {},
   "outputs": [
    {
     "name": "stdout",
     "output_type": "stream",
     "text": [
      "diterima: 356, tidak diterima: 4, error rate: 1.1111111111111112\n"
     ]
    }
   ],
   "source": [
    "my_reader = csv.reader(open('./gyro1/16012021.csv', encoding = 'utf-8'))\n",
    "ctr = 0\n",
    "rows = 0\n",
    "time = 'T22'\n",
    "for record in my_reader:\n",
    "    if time in record[0]:\n",
    "        rows += 1\n",
    "        ctr += record[0].count(time)\n",
    "\n",
    "tidak = 360 - ctr \n",
    "err = ((360 - ctr)/360)*100\n",
    "\n",
    "print('diterima: {}, tidak diterima: {}, error rate: {}'.format(ctr, tidak,err))"
   ]
  },
  {
   "cell_type": "code",
   "execution_count": 19,
   "metadata": {},
   "outputs": [
    {
     "name": "stdout",
     "output_type": "stream",
     "text": [
      "diterima: 357, tidak diterima: 3, error rate: 0.8333333333333334\n"
     ]
    }
   ],
   "source": [
    "my_reader = csv.reader(open('./save-LOG_-1611292532952.csv', encoding = 'utf-8'))\n",
    "ctr = 0\n",
    "rows = 0\n",
    "time = '01 08 01'\n",
    "for record in my_reader:\n",
    "    if time in record[1]:\n",
    "        rows += 1\n",
    "        ctr += record[1].count(time)\n",
    "\n",
    "tidak = 360 - ctr \n",
    "err = ((360 - ctr)/360)*100\n",
    "\n",
    "print('diterima: {}, tidak diterima: {}, error rate: {}'.format(ctr, tidak,err))"
   ]
  },
  {
   "cell_type": "code",
   "execution_count": 21,
   "metadata": {},
   "outputs": [
    {
     "name": "stdout",
     "output_type": "stream",
     "text": [
      "diterima: 3589, tidak diterima: 11, error rate: 0.3055555555555556\n"
     ]
    }
   ],
   "source": [
    "import csv\n",
    "my_reader = csv.reader(open('./save-LOG_-1611304761845.csv', encoding = 'utf-8'))\n",
    "ctr = 0\n",
    "rows = 0\n",
    "time = '01 01 01'\n",
    "for record in my_reader:\n",
    "    if time in record[1]:\n",
    "        rows += 1\n",
    "        ctr += record[1].count(time)\n",
    "\n",
    "tidak = 3600 - ctr \n",
    "err = ((3600 - ctr)/3600)*100\n",
    "\n",
    "print('diterima: {}, tidak diterima: {}, error rate: {}'.format(ctr, tidak,err))"
   ]
  }
 ],
 "metadata": {
  "kernelspec": {
   "display_name": "Python 3",
   "language": "python",
   "name": "python3"
  },
  "language_info": {
   "codemirror_mode": {
    "name": "ipython",
    "version": 3
   },
   "file_extension": ".py",
   "mimetype": "text/x-python",
   "name": "python",
   "nbconvert_exporter": "python",
   "pygments_lexer": "ipython3",
   "version": "3.8.2"
  }
 },
 "nbformat": 4,
 "nbformat_minor": 4
}
